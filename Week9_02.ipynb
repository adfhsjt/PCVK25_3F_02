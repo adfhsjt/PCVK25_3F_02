{
  "nbformat": 4,
  "nbformat_minor": 0,
  "metadata": {
    "colab": {
      "provenance": [],
      "mount_file_id": "1S6be8nR_5ye9pNLFRKpXB1mKR4EvDFNP",
      "authorship_tag": "ABX9TyPFaliP8j2XTfidVCZKrWuF",
      "include_colab_link": true
    },
    "kernelspec": {
      "name": "python3",
      "display_name": "Python 3"
    },
    "language_info": {
      "name": "python"
    }
  },
  "cells": [
    {
      "cell_type": "markdown",
      "metadata": {
        "id": "view-in-github",
        "colab_type": "text"
      },
      "source": [
        "<a href=\"https://colab.research.google.com/github/adfhsjt/PCVK25_3F_02/blob/main/Week9_02.ipynb\" target=\"_parent\"><img src=\"https://colab.research.google.com/assets/colab-badge.svg\" alt=\"Open In Colab\"/></a>"
      ]
    },
    {
      "cell_type": "markdown",
      "source": [
        "Nama : Ahmad Dzul Fadhli Hannan  \n",
        "Absen : 02  \n",
        "Kelas : TI3F  \n",
        "NIM : 2341720106  "
      ],
      "metadata": {
        "id": "znJChKmNBw4l"
      }
    },
    {
      "cell_type": "markdown",
      "source": [
        "# D. TUGAS PRAKTIKUM"
      ],
      "metadata": {
        "id": "KgUDmKwzjGpt"
      }
    },
    {
      "cell_type": "code",
      "source": [
        "from google.colab import drive\n",
        "drive.mount('/content/drive')"
      ],
      "metadata": {
        "colab": {
          "base_uri": "https://localhost:8080/"
        },
        "id": "o5L0n_EykW3O",
        "outputId": "108948b4-5e64-4691-fe1e-a87a701b6673"
      },
      "execution_count": 8,
      "outputs": [
        {
          "output_type": "stream",
          "name": "stdout",
          "text": [
            "Drive already mounted at /content/drive; to attempt to forcibly remount, call drive.mount(\"/content/drive\", force_remount=True).\n"
          ]
        }
      ]
    },
    {
      "cell_type": "code",
      "source": [
        "!pip install pytesseract\n",
        "!sudo apt-get install tesseract-ocr-ind"
      ],
      "metadata": {
        "colab": {
          "base_uri": "https://localhost:8080/"
        },
        "id": "yDWf4dFQm5xx",
        "outputId": "dedca485-13ad-4be1-d2b6-7b18a40bc28f"
      },
      "execution_count": 9,
      "outputs": [
        {
          "output_type": "stream",
          "name": "stdout",
          "text": [
            "Collecting pytesseract\n",
            "  Downloading pytesseract-0.3.13-py3-none-any.whl.metadata (11 kB)\n",
            "Requirement already satisfied: packaging>=21.3 in /usr/local/lib/python3.12/dist-packages (from pytesseract) (25.0)\n",
            "Requirement already satisfied: Pillow>=8.0.0 in /usr/local/lib/python3.12/dist-packages (from pytesseract) (11.3.0)\n",
            "Downloading pytesseract-0.3.13-py3-none-any.whl (14 kB)\n",
            "Installing collected packages: pytesseract\n",
            "Successfully installed pytesseract-0.3.13\n",
            "Reading package lists... Done\n",
            "Building dependency tree... Done\n",
            "Reading state information... Done\n",
            "The following NEW packages will be installed:\n",
            "  tesseract-ocr-ind\n",
            "0 upgraded, 1 newly installed, 0 to remove and 41 not upgraded.\n",
            "Need to get 537 kB of archives.\n",
            "After this operation, 1,138 kB of additional disk space will be used.\n",
            "Get:1 http://archive.ubuntu.com/ubuntu jammy/universe amd64 tesseract-ocr-ind all 1:4.00~git30-7274cfa-1.1 [537 kB]\n",
            "Fetched 537 kB in 0s (2,655 kB/s)\n",
            "debconf: unable to initialize frontend: Dialog\n",
            "debconf: (No usable dialog-like program is installed, so the dialog based frontend cannot be used. at /usr/share/perl5/Debconf/FrontEnd/Dialog.pm line 78, <> line 1.)\n",
            "debconf: falling back to frontend: Readline\n",
            "debconf: unable to initialize frontend: Readline\n",
            "debconf: (This frontend requires a controlling tty.)\n",
            "debconf: falling back to frontend: Teletype\n",
            "dpkg-preconfigure: unable to re-open stdin: \n",
            "Selecting previously unselected package tesseract-ocr-ind.\n",
            "(Reading database ... 125079 files and directories currently installed.)\n",
            "Preparing to unpack .../tesseract-ocr-ind_1%3a4.00~git30-7274cfa-1.1_all.deb ...\n",
            "Unpacking tesseract-ocr-ind (1:4.00~git30-7274cfa-1.1) ...\n",
            "Setting up tesseract-ocr-ind (1:4.00~git30-7274cfa-1.1) ...\n"
          ]
        }
      ]
    },
    {
      "cell_type": "code",
      "source": [
        "import cv2\n",
        "import numpy as np\n",
        "import pytesseract\n",
        "import matplotlib.pyplot as plt\n",
        "import pandas as pd\n",
        "from PIL import Image"
      ],
      "metadata": {
        "id": "bW2qdAWkkbAd"
      },
      "execution_count": 10,
      "outputs": []
    },
    {
      "cell_type": "markdown",
      "source": [
        "## Buat Global Threshold (BINARY, BINARY_INV, TRUNC, TOZERO, TOZERO_INV), dengan threshold= 170, secara manual sesuai dengan deskripsi dari grafik yang ditunjukkan di atas."
      ],
      "metadata": {
        "id": "Xmi-wSV996M7"
      }
    },
    {
      "cell_type": "code",
      "source": [
        "filename = ('/content/drive/MyDrive/PCVK25_3F_02/Images/gradient2.jpg')\n",
        "img = cv.imread(filename)\n",
        "thresh1 = cv.imread(filename)\n",
        "thresh2 = cv.imread(filename)\n",
        "thresh3 = cv.imread(filename)\n",
        "thresh4 = cv.imread(filename)\n",
        "thresh5 = cv.imread(filename)\n",
        "thresh = 170 #nilai Threshold yang ditentukan\n",
        "#1. thresh1 jika pixel di img>127, maka thresh1 bernilai 1(putih) selain itu bernilai 0(hitam)\n",
        "thresh1[img>thresh] = 255 #tanpa library\n",
        "thresh1[img<=thresh] = 0\n",
        "#2. thresh2 adalah binary threshold inverse\n",
        "thresh2 = 255 - thresh1 #tanpa library\n",
        "#3. Threshold Truncate\n",
        "thresh3[img>thresh] = thresh #tanpa library\n",
        "#4. Threshold Tozero\n",
        "thresh4[img<=thresh] = 0 #tanpa library\n",
        "#5. Threshold Tozero Inverse\n",
        "thresh5[img>thresh] = 0 #tanpa library\n",
        "titles = ['Original Image','BINARY','BINARY_INV','TRUNC', 'TOZERO', 'TOZERO_INV']\n",
        "images = [img, thresh1, thresh2, thresh3, thresh4, thresh5]\n",
        "plt.figure(figsize = (15,5))\n",
        "for i in range(len(images)):\n",
        "  plt.subplot(2,3,i+1),plt.imshow(images[i],'gray', interpolation='nearest')\n",
        "  plt.title(titles[i])\n",
        "  plt.xticks([]),plt.yticks([])\n",
        "plt.show()"
      ],
      "metadata": {
        "colab": {
          "base_uri": "https://localhost:8080/",
          "height": 464
        },
        "id": "M_JSpkxtk4Z6",
        "outputId": "0cce3814-c2a2-41eb-9e27-7eb09ad8e084"
      },
      "execution_count": 46,
      "outputs": [
        {
          "output_type": "display_data",
          "data": {
            "text/plain": [
              "<Figure size 1500x500 with 6 Axes>"
            ],
            "image/png": "[encoded data removed]"
          },
          "metadata": {}
        }
      ]
    }
  ]
}